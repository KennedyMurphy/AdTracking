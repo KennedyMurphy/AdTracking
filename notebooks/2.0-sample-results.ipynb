{
 "cells": [
  {
   "cell_type": "markdown",
   "metadata": {},
   "source": [
    "# Overview\n",
    "\n",
    "The file *src/models/compare_methods.py* runs through a number of k-fold cross validations for different classification methods. Below are the f1, precistion, and recall statistics for those model runs. The *train_sample.csv* was used for the k-fold cross validation.\n",
    "\n",
    "This file compares the result of undersampling the class 0 for the unbalanced data set."
   ]
  },
  {
   "cell_type": "code",
   "execution_count": 1,
   "metadata": {},
   "outputs": [],
   "source": [
    "import pandas as pd\n",
    "import numpy as np\n",
    "import altair as alt"
   ]
  },
  {
   "cell_type": "code",
   "execution_count": 2,
   "metadata": {},
   "outputs": [
    {
     "data": {
      "text/html": [
       "<div>\n",
       "<style scoped>\n",
       "    .dataframe tbody tr th:only-of-type {\n",
       "        vertical-align: middle;\n",
       "    }\n",
       "\n",
       "    .dataframe tbody tr th {\n",
       "        vertical-align: top;\n",
       "    }\n",
       "\n",
       "    .dataframe thead tr th {\n",
       "        text-align: left;\n",
       "    }\n",
       "\n",
       "    .dataframe thead tr:last-of-type th {\n",
       "        text-align: right;\n",
       "    }\n",
       "</style>\n",
       "<table border=\"1\" class=\"dataframe\">\n",
       "  <thead>\n",
       "    <tr>\n",
       "      <th></th>\n",
       "      <th colspan=\"2\" halign=\"left\">precision</th>\n",
       "      <th colspan=\"2\" halign=\"left\">recall</th>\n",
       "      <th colspan=\"2\" halign=\"left\">f1</th>\n",
       "    </tr>\n",
       "    <tr>\n",
       "      <th></th>\n",
       "      <th>mean</th>\n",
       "      <th>std</th>\n",
       "      <th>mean</th>\n",
       "      <th>std</th>\n",
       "      <th>mean</th>\n",
       "      <th>std</th>\n",
       "    </tr>\n",
       "    <tr>\n",
       "      <th>model</th>\n",
       "      <th></th>\n",
       "      <th></th>\n",
       "      <th></th>\n",
       "      <th></th>\n",
       "      <th></th>\n",
       "      <th></th>\n",
       "    </tr>\n",
       "  </thead>\n",
       "  <tbody>\n",
       "    <tr>\n",
       "      <th>Decision Tree</th>\n",
       "      <td>0.851178</td>\n",
       "      <td>0.068389</td>\n",
       "      <td>0.866633</td>\n",
       "      <td>0.044711</td>\n",
       "      <td>0.856759</td>\n",
       "      <td>0.039465</td>\n",
       "    </tr>\n",
       "    <tr>\n",
       "      <th>Logistic Regression</th>\n",
       "      <td>0.720612</td>\n",
       "      <td>0.048504</td>\n",
       "      <td>0.807145</td>\n",
       "      <td>0.046523</td>\n",
       "      <td>0.759659</td>\n",
       "      <td>0.030847</td>\n",
       "    </tr>\n",
       "    <tr>\n",
       "      <th>Random Forest</th>\n",
       "      <td>0.917586</td>\n",
       "      <td>0.042453</td>\n",
       "      <td>0.867984</td>\n",
       "      <td>0.041741</td>\n",
       "      <td>0.891177</td>\n",
       "      <td>0.030613</td>\n",
       "    </tr>\n",
       "  </tbody>\n",
       "</table>\n",
       "</div>"
      ],
      "text/plain": [
       "                    precision              recall                  f1  \\\n",
       "                         mean       std      mean       std      mean   \n",
       "model                                                                   \n",
       "Decision Tree        0.851178  0.068389  0.866633  0.044711  0.856759   \n",
       "Logistic Regression  0.720612  0.048504  0.807145  0.046523  0.759659   \n",
       "Random Forest        0.917586  0.042453  0.867984  0.041741  0.891177   \n",
       "\n",
       "                               \n",
       "                          std  \n",
       "model                          \n",
       "Decision Tree        0.039465  \n",
       "Logistic Regression  0.030847  \n",
       "Random Forest        0.030613  "
      ]
     },
     "execution_count": 2,
     "metadata": {},
     "output_type": "execute_result"
    }
   ],
   "source": [
    "scores = pd.read_csv(\"../models/sample_scores.csv\")\n",
    "scores.groupby(\"model\").agg(['mean', 'std'])"
   ]
  },
  {
   "cell_type": "markdown",
   "metadata": {},
   "source": [
    "The Logistic Regression threw a *UndefinedMetricWarning* at each iteration. This is on my TODO list for digging into. For now, I will drop that classification method and focus on the Decision Tree & Random Forest."
   ]
  },
  {
   "cell_type": "code",
   "execution_count": 3,
   "metadata": {},
   "outputs": [],
   "source": [
    "scores = scores[scores['model'] != 'Logistic Regression'].reset_index(drop=True)"
   ]
  },
  {
   "cell_type": "code",
   "execution_count": 4,
   "metadata": {},
   "outputs": [
    {
     "data": {
      "application/vnd.vegalite.v2+json": {
       "$schema": "https://vega.github.io/schema/vega-lite/v2.4.3.json",
       "config": {
        "view": {
         "height": 300,
         "width": 400
        }
       },
       "hconcat": [
        {
         "data": {
          "values": [
           {
            "f1": 0.8550724637681161,
            "model": "Decision Tree",
            "precision": 0.8309859154929577,
            "recall": 0.8805970149253731
           },
           {
            "f1": 0.823529411764706,
            "model": "Decision Tree",
            "precision": 0.7777777777777778,
            "recall": 0.875
           },
           {
            "f1": 0.8413793103448277,
            "model": "Decision Tree",
            "precision": 0.8356164383561644,
            "recall": 0.8472222222222222
           },
           {
            "f1": 0.8289473684210527,
            "model": "Decision Tree",
            "precision": 0.7682926829268293,
            "recall": 0.9
           },
           {
            "f1": 0.8613138686131386,
            "model": "Decision Tree",
            "precision": 0.8309859154929577,
            "recall": 0.8939393939393939
           },
           {
            "f1": 0.9242424242424244,
            "model": "Decision Tree",
            "precision": 0.9384615384615383,
            "recall": 0.9104477611940298
           },
           {
            "f1": 0.880503144654088,
            "model": "Decision Tree",
            "precision": 0.8641975308641975,
            "recall": 0.8974358974358975
           },
           {
            "f1": 0.8904109589041096,
            "model": "Decision Tree",
            "precision": 0.9027777777777778,
            "recall": 0.8783783783783784
           },
           {
            "f1": 0.8936170212765957,
            "model": "Decision Tree",
            "precision": 0.9130434782608696,
            "recall": 0.875
           },
           {
            "f1": 0.8888888888888888,
            "model": "Decision Tree",
            "precision": 0.8831168831168831,
            "recall": 0.8947368421052632
           },
           {
            "f1": 0.8592592592592593,
            "model": "Decision Tree",
            "precision": 0.8656716417910447,
            "recall": 0.8529411764705882
           },
           {
            "f1": 0.8976377952755904,
            "model": "Decision Tree",
            "precision": 0.9193548387096774,
            "recall": 0.8769230769230769
           },
           {
            "f1": 0.8187919463087249,
            "model": "Decision Tree",
            "precision": 0.7349397590361446,
            "recall": 0.9242424242424242
           },
           {
            "f1": 0.8732394366197184,
            "model": "Decision Tree",
            "precision": 0.9117647058823528,
            "recall": 0.8378378378378378
           },
           {
            "f1": 0.8421052631578947,
            "model": "Decision Tree",
            "precision": 0.7671232876712328,
            "recall": 0.9333333333333332
           },
           {
            "f1": 0.9022556390977444,
            "model": "Decision Tree",
            "precision": 0.9375,
            "recall": 0.8695652173913043
           },
           {
            "f1": 0.8666666666666666,
            "model": "Decision Tree",
            "precision": 0.8125,
            "recall": 0.9285714285714286
           },
           {
            "f1": 0.9172932330827068,
            "model": "Decision Tree",
            "precision": 0.9682539682539684,
            "recall": 0.8714285714285714
           },
           {
            "f1": 0.9230769230769232,
            "model": "Decision Tree",
            "precision": 0.9565217391304348,
            "recall": 0.8918918918918919
           },
           {
            "f1": 0.8591549295774649,
            "model": "Decision Tree",
            "precision": 0.9682539682539684,
            "recall": 0.7721518987341772
           },
           {
            "f1": 0.8769230769230768,
            "model": "Decision Tree",
            "precision": 0.8636363636363636,
            "recall": 0.890625
           },
           {
            "f1": 0.8333333333333334,
            "model": "Decision Tree",
            "precision": 0.7792207792207793,
            "recall": 0.8955223880597015
           },
           {
            "f1": 0.882758620689655,
            "model": "Decision Tree",
            "precision": 0.927536231884058,
            "recall": 0.8421052631578947
           },
           {
            "f1": 0.8095238095238095,
            "model": "Decision Tree",
            "precision": 0.7727272727272727,
            "recall": 0.85
           },
           {
            "f1": 0.7794117647058824,
            "model": "Decision Tree",
            "precision": 0.7794117647058824,
            "recall": 0.7794117647058824
           },
           {
            "f1": 0.7883211678832117,
            "model": "Decision Tree",
            "precision": 0.7941176470588235,
            "recall": 0.7826086956521741
           },
           {
            "f1": 0.8904109589041095,
            "model": "Decision Tree",
            "precision": 0.8666666666666667,
            "recall": 0.9154929577464788
           },
           {
            "f1": 0.7666666666666666,
            "model": "Decision Tree",
            "precision": 0.7796610169491526,
            "recall": 0.7540983606557377
           },
           {
            "f1": 0.832116788321168,
            "model": "Decision Tree",
            "precision": 0.8142857142857143,
            "recall": 0.8507462686567164
           },
           {
            "f1": 0.8549618320610687,
            "model": "Decision Tree",
            "precision": 0.875,
            "recall": 0.8358208955223879
           },
           {
            "f1": 0.9014084507042254,
            "model": "Decision Tree",
            "precision": 0.9142857142857144,
            "recall": 0.8888888888888888
           },
           {
            "f1": 0.7913669064748201,
            "model": "Decision Tree",
            "precision": 0.8088235294117647,
            "recall": 0.7746478873239436
           },
           {
            "f1": 0.8529411764705883,
            "model": "Decision Tree",
            "precision": 0.7631578947368421,
            "recall": 0.9666666666666668
           },
           {
            "f1": 0.8535031847133758,
            "model": "Decision Tree",
            "precision": 0.8815789473684209,
            "recall": 0.8271604938271605
           },
           {
            "f1": 0.8769230769230768,
            "model": "Decision Tree",
            "precision": 0.890625,
            "recall": 0.8636363636363636
           },
           {
            "f1": 0.9172932330827068,
            "model": "Decision Tree",
            "precision": 0.9838709677419356,
            "recall": 0.8591549295774648
           },
           {
            "f1": 0.8275862068965518,
            "model": "Decision Tree",
            "precision": 0.8135593220338984,
            "recall": 0.8421052631578947
           },
           {
            "f1": 0.8493150684931507,
            "model": "Decision Tree",
            "precision": 0.8378378378378378,
            "recall": 0.8611111111111112
           },
           {
            "f1": 0.8529411764705882,
            "model": "Decision Tree",
            "precision": 0.8055555555555556,
            "recall": 0.90625
           },
           {
            "f1": 0.8811188811188809,
            "model": "Decision Tree",
            "precision": 0.9264705882352942,
            "recall": 0.84
           },
           {
            "f1": 0.8085106382978723,
            "model": "Decision Tree",
            "precision": 0.75,
            "recall": 0.8769230769230769
           },
           {
            "f1": 0.8684210526315789,
            "model": "Decision Tree",
            "precision": 0.8571428571428571,
            "recall": 0.88
           },
           {
            "f1": 0.8461538461538461,
            "model": "Decision Tree",
            "precision": 0.9016393442622952,
            "recall": 0.7971014492753623
           },
           {
            "f1": 0.8591549295774648,
            "model": "Decision Tree",
            "precision": 0.8356164383561644,
            "recall": 0.8840579710144928
           },
           {
            "f1": 0.8260869565217391,
            "model": "Decision Tree",
            "precision": 0.7702702702702703,
            "recall": 0.890625
           },
           {
            "f1": 0.8143712574850299,
            "model": "Decision Tree",
            "precision": 0.7472527472527473,
            "recall": 0.8947368421052632
           },
           {
            "f1": 0.8702290076335878,
            "model": "Decision Tree",
            "precision": 0.8507462686567164,
            "recall": 0.890625
           },
           {
            "f1": 0.8955223880597014,
            "model": "Decision Tree",
            "precision": 0.9230769230769232,
            "recall": 0.8695652173913043
           },
           {
            "f1": 0.7785234899328859,
            "model": "Decision Tree",
            "precision": 0.7532467532467533,
            "recall": 0.8055555555555556
           },
           {
            "f1": 0.9047619047619048,
            "model": "Decision Tree",
            "precision": 0.9047619047619048,
            "recall": 0.9047619047619048
           },
           {
            "f1": 0.9133858267716536,
            "model": "Random Forest",
            "precision": 0.9666666666666668,
            "recall": 0.8656716417910447
           },
           {
            "f1": 0.8955223880597015,
            "model": "Random Forest",
            "precision": 0.967741935483871,
            "recall": 0.8333333333333334
           },
           {
            "f1": 0.9022556390977444,
            "model": "Random Forest",
            "precision": 0.9836065573770492,
            "recall": 0.8333333333333334
           },
           {
            "f1": 0.8955223880597014,
            "model": "Random Forest",
            "precision": 0.9375,
            "recall": 0.8571428571428571
           },
           {
            "f1": 0.9147286821705426,
            "model": "Random Forest",
            "precision": 0.9365079365079364,
            "recall": 0.8939393939393939
           },
           {
            "f1": 0.9696969696969696,
            "model": "Random Forest",
            "precision": 0.9846153846153848,
            "recall": 0.9552238805970148
           },
           {
            "f1": 0.8961038961038961,
            "model": "Random Forest",
            "precision": 0.9078947368421052,
            "recall": 0.8846153846153846
           },
           {
            "f1": 0.8936170212765957,
            "model": "Random Forest",
            "precision": 0.9402985074626866,
            "recall": 0.8513513513513513
           },
           {
            "f1": 0.9078014184397164,
            "model": "Random Forest",
            "precision": 0.927536231884058,
            "recall": 0.8888888888888888
           },
           {
            "f1": 0.9189189189189191,
            "model": "Random Forest",
            "precision": 0.9444444444444444,
            "recall": 0.8947368421052632
           },
           {
            "f1": 0.9047619047619048,
            "model": "Random Forest",
            "precision": 0.9827586206896552,
            "recall": 0.8382352941176471
           },
           {
            "f1": 0.90625,
            "model": "Random Forest",
            "precision": 0.9206349206349206,
            "recall": 0.8923076923076924
           },
           {
            "f1": 0.9104477611940298,
            "model": "Random Forest",
            "precision": 0.8970588235294118,
            "recall": 0.9242424242424242
           },
           {
            "f1": 0.8873239436619719,
            "model": "Random Forest",
            "precision": 0.9264705882352942,
            "recall": 0.8513513513513513
           },
           {
            "f1": 0.9193548387096774,
            "model": "Random Forest",
            "precision": 0.890625,
            "recall": 0.95
           },
           {
            "f1": 0.9160305343511452,
            "model": "Random Forest",
            "precision": 0.967741935483871,
            "recall": 0.8695652173913043
           },
           {
            "f1": 0.8551724137931035,
            "model": "Random Forest",
            "precision": 0.8266666666666667,
            "recall": 0.8857142857142857
           },
           {
            "f1": 0.9022556390977444,
            "model": "Random Forest",
            "precision": 0.9523809523809524,
            "recall": 0.8571428571428571
           },
           {
            "f1": 0.917808219178082,
            "model": "Random Forest",
            "precision": 0.9305555555555556,
            "recall": 0.9054054054054054
           },
           {
            "f1": 0.92,
            "model": "Random Forest",
            "precision": 0.9718309859154929,
            "recall": 0.8734177215189873
           },
           {
            "f1": 0.8769230769230768,
            "model": "Random Forest",
            "precision": 0.8636363636363636,
            "recall": 0.890625
           },
           {
            "f1": 0.8695652173913043,
            "model": "Random Forest",
            "precision": 0.8450704225352113,
            "recall": 0.8955223880597015
           },
           {
            "f1": 0.9014084507042254,
            "model": "Random Forest",
            "precision": 0.9696969696969696,
            "recall": 0.8421052631578947
           },
           {
            "f1": 0.8333333333333334,
            "model": "Random Forest",
            "precision": 0.8333333333333334,
            "recall": 0.8333333333333334
           },
           {
            "f1": 0.8346456692913385,
            "model": "Random Forest",
            "precision": 0.8983050847457628,
            "recall": 0.7794117647058824
           },
           {
            "f1": 0.8787878787878787,
            "model": "Random Forest",
            "precision": 0.9206349206349206,
            "recall": 0.8405797101449275
           },
           {
            "f1": 0.9352517985611511,
            "model": "Random Forest",
            "precision": 0.9558823529411764,
            "recall": 0.9154929577464788
           },
           {
            "f1": 0.8403361344537814,
            "model": "Random Forest",
            "precision": 0.8620689655172413,
            "recall": 0.819672131147541
           },
           {
            "f1": 0.9147286821705426,
            "model": "Random Forest",
            "precision": 0.9516129032258064,
            "recall": 0.8805970149253731
           },
           {
            "f1": 0.8818897637795275,
            "model": "Random Forest",
            "precision": 0.9333333333333332,
            "recall": 0.8358208955223879
           },
           {
            "f1": 0.9064748201438848,
            "model": "Random Forest",
            "precision": 0.9402985074626866,
            "recall": 0.875
           },
           {
            "f1": 0.8059701492537313,
            "model": "Random Forest",
            "precision": 0.8571428571428571,
            "recall": 0.7605633802816901
           },
           {
            "f1": 0.890625,
            "model": "Random Forest",
            "precision": 0.8382352941176471,
            "recall": 0.95
           },
           {
            "f1": 0.9032258064516129,
            "model": "Random Forest",
            "precision": 0.945945945945946,
            "recall": 0.8641975308641975
           },
           {
            "f1": 0.8661417322834646,
            "model": "Random Forest",
            "precision": 0.9016393442622952,
            "recall": 0.8333333333333334
           },
           {
            "f1": 0.8776978417266187,
            "model": "Random Forest",
            "precision": 0.8970588235294118,
            "recall": 0.8591549295774648
           },
           {
            "f1": 0.8807339449541285,
            "model": "Random Forest",
            "precision": 0.9230769230769232,
            "recall": 0.8421052631578947
           },
           {
            "f1": 0.8811188811188809,
            "model": "Random Forest",
            "precision": 0.8873239436619719,
            "recall": 0.875
           },
           {
            "f1": 0.8837209302325579,
            "model": "Random Forest",
            "precision": 0.8769230769230769,
            "recall": 0.890625
           },
           {
            "f1": 0.8652482269503545,
            "model": "Random Forest",
            "precision": 0.9242424242424242,
            "recall": 0.8133333333333334
           },
           {
            "f1": 0.8661417322834646,
            "model": "Random Forest",
            "precision": 0.8870967741935484,
            "recall": 0.8461538461538461
           },
           {
            "f1": 0.9041095890410958,
            "model": "Random Forest",
            "precision": 0.9295774647887324,
            "recall": 0.88
           },
           {
            "f1": 0.8854961832061068,
            "model": "Random Forest",
            "precision": 0.935483870967742,
            "recall": 0.8405797101449275
           },
           {
            "f1": 0.8695652173913043,
            "model": "Random Forest",
            "precision": 0.8695652173913043,
            "recall": 0.8695652173913043
           },
           {
            "f1": 0.8780487804878049,
            "model": "Random Forest",
            "precision": 0.9152542372881356,
            "recall": 0.84375
           },
           {
            "f1": 0.9054054054054054,
            "model": "Random Forest",
            "precision": 0.9305555555555556,
            "recall": 0.8815789473684209
           },
           {
            "f1": 0.9147286821705428,
            "model": "Random Forest",
            "precision": 0.9076923076923076,
            "recall": 0.921875
           },
           {
            "f1": 0.9160305343511452,
            "model": "Random Forest",
            "precision": 0.967741935483871,
            "recall": 0.8695652173913043
           },
           {
            "f1": 0.8142857142857143,
            "model": "Random Forest",
            "precision": 0.8382352941176471,
            "recall": 0.7916666666666666
           },
           {
            "f1": 0.9302325581395348,
            "model": "Random Forest",
            "precision": 0.9090909090909092,
            "recall": 0.9523809523809524
           }
          ]
         },
         "encoding": {
          "color": {
           "field": "model",
           "type": "nominal"
          },
          "x": {
           "field": "f1",
           "type": "quantitative"
          },
          "y": {
           "field": "precision",
           "type": "quantitative"
          }
         },
         "mark": "circle"
        },
        {
         "data": {
          "values": [
           {
            "f1": 0.8550724637681161,
            "model": "Decision Tree",
            "precision": 0.8309859154929577,
            "recall": 0.8805970149253731
           },
           {
            "f1": 0.823529411764706,
            "model": "Decision Tree",
            "precision": 0.7777777777777778,
            "recall": 0.875
           },
           {
            "f1": 0.8413793103448277,
            "model": "Decision Tree",
            "precision": 0.8356164383561644,
            "recall": 0.8472222222222222
           },
           {
            "f1": 0.8289473684210527,
            "model": "Decision Tree",
            "precision": 0.7682926829268293,
            "recall": 0.9
           },
           {
            "f1": 0.8613138686131386,
            "model": "Decision Tree",
            "precision": 0.8309859154929577,
            "recall": 0.8939393939393939
           },
           {
            "f1": 0.9242424242424244,
            "model": "Decision Tree",
            "precision": 0.9384615384615383,
            "recall": 0.9104477611940298
           },
           {
            "f1": 0.880503144654088,
            "model": "Decision Tree",
            "precision": 0.8641975308641975,
            "recall": 0.8974358974358975
           },
           {
            "f1": 0.8904109589041096,
            "model": "Decision Tree",
            "precision": 0.9027777777777778,
            "recall": 0.8783783783783784
           },
           {
            "f1": 0.8936170212765957,
            "model": "Decision Tree",
            "precision": 0.9130434782608696,
            "recall": 0.875
           },
           {
            "f1": 0.8888888888888888,
            "model": "Decision Tree",
            "precision": 0.8831168831168831,
            "recall": 0.8947368421052632
           },
           {
            "f1": 0.8592592592592593,
            "model": "Decision Tree",
            "precision": 0.8656716417910447,
            "recall": 0.8529411764705882
           },
           {
            "f1": 0.8976377952755904,
            "model": "Decision Tree",
            "precision": 0.9193548387096774,
            "recall": 0.8769230769230769
           },
           {
            "f1": 0.8187919463087249,
            "model": "Decision Tree",
            "precision": 0.7349397590361446,
            "recall": 0.9242424242424242
           },
           {
            "f1": 0.8732394366197184,
            "model": "Decision Tree",
            "precision": 0.9117647058823528,
            "recall": 0.8378378378378378
           },
           {
            "f1": 0.8421052631578947,
            "model": "Decision Tree",
            "precision": 0.7671232876712328,
            "recall": 0.9333333333333332
           },
           {
            "f1": 0.9022556390977444,
            "model": "Decision Tree",
            "precision": 0.9375,
            "recall": 0.8695652173913043
           },
           {
            "f1": 0.8666666666666666,
            "model": "Decision Tree",
            "precision": 0.8125,
            "recall": 0.9285714285714286
           },
           {
            "f1": 0.9172932330827068,
            "model": "Decision Tree",
            "precision": 0.9682539682539684,
            "recall": 0.8714285714285714
           },
           {
            "f1": 0.9230769230769232,
            "model": "Decision Tree",
            "precision": 0.9565217391304348,
            "recall": 0.8918918918918919
           },
           {
            "f1": 0.8591549295774649,
            "model": "Decision Tree",
            "precision": 0.9682539682539684,
            "recall": 0.7721518987341772
           },
           {
            "f1": 0.8769230769230768,
            "model": "Decision Tree",
            "precision": 0.8636363636363636,
            "recall": 0.890625
           },
           {
            "f1": 0.8333333333333334,
            "model": "Decision Tree",
            "precision": 0.7792207792207793,
            "recall": 0.8955223880597015
           },
           {
            "f1": 0.882758620689655,
            "model": "Decision Tree",
            "precision": 0.927536231884058,
            "recall": 0.8421052631578947
           },
           {
            "f1": 0.8095238095238095,
            "model": "Decision Tree",
            "precision": 0.7727272727272727,
            "recall": 0.85
           },
           {
            "f1": 0.7794117647058824,
            "model": "Decision Tree",
            "precision": 0.7794117647058824,
            "recall": 0.7794117647058824
           },
           {
            "f1": 0.7883211678832117,
            "model": "Decision Tree",
            "precision": 0.7941176470588235,
            "recall": 0.7826086956521741
           },
           {
            "f1": 0.8904109589041095,
            "model": "Decision Tree",
            "precision": 0.8666666666666667,
            "recall": 0.9154929577464788
           },
           {
            "f1": 0.7666666666666666,
            "model": "Decision Tree",
            "precision": 0.7796610169491526,
            "recall": 0.7540983606557377
           },
           {
            "f1": 0.832116788321168,
            "model": "Decision Tree",
            "precision": 0.8142857142857143,
            "recall": 0.8507462686567164
           },
           {
            "f1": 0.8549618320610687,
            "model": "Decision Tree",
            "precision": 0.875,
            "recall": 0.8358208955223879
           },
           {
            "f1": 0.9014084507042254,
            "model": "Decision Tree",
            "precision": 0.9142857142857144,
            "recall": 0.8888888888888888
           },
           {
            "f1": 0.7913669064748201,
            "model": "Decision Tree",
            "precision": 0.8088235294117647,
            "recall": 0.7746478873239436
           },
           {
            "f1": 0.8529411764705883,
            "model": "Decision Tree",
            "precision": 0.7631578947368421,
            "recall": 0.9666666666666668
           },
           {
            "f1": 0.8535031847133758,
            "model": "Decision Tree",
            "precision": 0.8815789473684209,
            "recall": 0.8271604938271605
           },
           {
            "f1": 0.8769230769230768,
            "model": "Decision Tree",
            "precision": 0.890625,
            "recall": 0.8636363636363636
           },
           {
            "f1": 0.9172932330827068,
            "model": "Decision Tree",
            "precision": 0.9838709677419356,
            "recall": 0.8591549295774648
           },
           {
            "f1": 0.8275862068965518,
            "model": "Decision Tree",
            "precision": 0.8135593220338984,
            "recall": 0.8421052631578947
           },
           {
            "f1": 0.8493150684931507,
            "model": "Decision Tree",
            "precision": 0.8378378378378378,
            "recall": 0.8611111111111112
           },
           {
            "f1": 0.8529411764705882,
            "model": "Decision Tree",
            "precision": 0.8055555555555556,
            "recall": 0.90625
           },
           {
            "f1": 0.8811188811188809,
            "model": "Decision Tree",
            "precision": 0.9264705882352942,
            "recall": 0.84
           },
           {
            "f1": 0.8085106382978723,
            "model": "Decision Tree",
            "precision": 0.75,
            "recall": 0.8769230769230769
           },
           {
            "f1": 0.8684210526315789,
            "model": "Decision Tree",
            "precision": 0.8571428571428571,
            "recall": 0.88
           },
           {
            "f1": 0.8461538461538461,
            "model": "Decision Tree",
            "precision": 0.9016393442622952,
            "recall": 0.7971014492753623
           },
           {
            "f1": 0.8591549295774648,
            "model": "Decision Tree",
            "precision": 0.8356164383561644,
            "recall": 0.8840579710144928
           },
           {
            "f1": 0.8260869565217391,
            "model": "Decision Tree",
            "precision": 0.7702702702702703,
            "recall": 0.890625
           },
           {
            "f1": 0.8143712574850299,
            "model": "Decision Tree",
            "precision": 0.7472527472527473,
            "recall": 0.8947368421052632
           },
           {
            "f1": 0.8702290076335878,
            "model": "Decision Tree",
            "precision": 0.8507462686567164,
            "recall": 0.890625
           },
           {
            "f1": 0.8955223880597014,
            "model": "Decision Tree",
            "precision": 0.9230769230769232,
            "recall": 0.8695652173913043
           },
           {
            "f1": 0.7785234899328859,
            "model": "Decision Tree",
            "precision": 0.7532467532467533,
            "recall": 0.8055555555555556
           },
           {
            "f1": 0.9047619047619048,
            "model": "Decision Tree",
            "precision": 0.9047619047619048,
            "recall": 0.9047619047619048
           },
           {
            "f1": 0.9133858267716536,
            "model": "Random Forest",
            "precision": 0.9666666666666668,
            "recall": 0.8656716417910447
           },
           {
            "f1": 0.8955223880597015,
            "model": "Random Forest",
            "precision": 0.967741935483871,
            "recall": 0.8333333333333334
           },
           {
            "f1": 0.9022556390977444,
            "model": "Random Forest",
            "precision": 0.9836065573770492,
            "recall": 0.8333333333333334
           },
           {
            "f1": 0.8955223880597014,
            "model": "Random Forest",
            "precision": 0.9375,
            "recall": 0.8571428571428571
           },
           {
            "f1": 0.9147286821705426,
            "model": "Random Forest",
            "precision": 0.9365079365079364,
            "recall": 0.8939393939393939
           },
           {
            "f1": 0.9696969696969696,
            "model": "Random Forest",
            "precision": 0.9846153846153848,
            "recall": 0.9552238805970148
           },
           {
            "f1": 0.8961038961038961,
            "model": "Random Forest",
            "precision": 0.9078947368421052,
            "recall": 0.8846153846153846
           },
           {
            "f1": 0.8936170212765957,
            "model": "Random Forest",
            "precision": 0.9402985074626866,
            "recall": 0.8513513513513513
           },
           {
            "f1": 0.9078014184397164,
            "model": "Random Forest",
            "precision": 0.927536231884058,
            "recall": 0.8888888888888888
           },
           {
            "f1": 0.9189189189189191,
            "model": "Random Forest",
            "precision": 0.9444444444444444,
            "recall": 0.8947368421052632
           },
           {
            "f1": 0.9047619047619048,
            "model": "Random Forest",
            "precision": 0.9827586206896552,
            "recall": 0.8382352941176471
           },
           {
            "f1": 0.90625,
            "model": "Random Forest",
            "precision": 0.9206349206349206,
            "recall": 0.8923076923076924
           },
           {
            "f1": 0.9104477611940298,
            "model": "Random Forest",
            "precision": 0.8970588235294118,
            "recall": 0.9242424242424242
           },
           {
            "f1": 0.8873239436619719,
            "model": "Random Forest",
            "precision": 0.9264705882352942,
            "recall": 0.8513513513513513
           },
           {
            "f1": 0.9193548387096774,
            "model": "Random Forest",
            "precision": 0.890625,
            "recall": 0.95
           },
           {
            "f1": 0.9160305343511452,
            "model": "Random Forest",
            "precision": 0.967741935483871,
            "recall": 0.8695652173913043
           },
           {
            "f1": 0.8551724137931035,
            "model": "Random Forest",
            "precision": 0.8266666666666667,
            "recall": 0.8857142857142857
           },
           {
            "f1": 0.9022556390977444,
            "model": "Random Forest",
            "precision": 0.9523809523809524,
            "recall": 0.8571428571428571
           },
           {
            "f1": 0.917808219178082,
            "model": "Random Forest",
            "precision": 0.9305555555555556,
            "recall": 0.9054054054054054
           },
           {
            "f1": 0.92,
            "model": "Random Forest",
            "precision": 0.9718309859154929,
            "recall": 0.8734177215189873
           },
           {
            "f1": 0.8769230769230768,
            "model": "Random Forest",
            "precision": 0.8636363636363636,
            "recall": 0.890625
           },
           {
            "f1": 0.8695652173913043,
            "model": "Random Forest",
            "precision": 0.8450704225352113,
            "recall": 0.8955223880597015
           },
           {
            "f1": 0.9014084507042254,
            "model": "Random Forest",
            "precision": 0.9696969696969696,
            "recall": 0.8421052631578947
           },
           {
            "f1": 0.8333333333333334,
            "model": "Random Forest",
            "precision": 0.8333333333333334,
            "recall": 0.8333333333333334
           },
           {
            "f1": 0.8346456692913385,
            "model": "Random Forest",
            "precision": 0.8983050847457628,
            "recall": 0.7794117647058824
           },
           {
            "f1": 0.8787878787878787,
            "model": "Random Forest",
            "precision": 0.9206349206349206,
            "recall": 0.8405797101449275
           },
           {
            "f1": 0.9352517985611511,
            "model": "Random Forest",
            "precision": 0.9558823529411764,
            "recall": 0.9154929577464788
           },
           {
            "f1": 0.8403361344537814,
            "model": "Random Forest",
            "precision": 0.8620689655172413,
            "recall": 0.819672131147541
           },
           {
            "f1": 0.9147286821705426,
            "model": "Random Forest",
            "precision": 0.9516129032258064,
            "recall": 0.8805970149253731
           },
           {
            "f1": 0.8818897637795275,
            "model": "Random Forest",
            "precision": 0.9333333333333332,
            "recall": 0.8358208955223879
           },
           {
            "f1": 0.9064748201438848,
            "model": "Random Forest",
            "precision": 0.9402985074626866,
            "recall": 0.875
           },
           {
            "f1": 0.8059701492537313,
            "model": "Random Forest",
            "precision": 0.8571428571428571,
            "recall": 0.7605633802816901
           },
           {
            "f1": 0.890625,
            "model": "Random Forest",
            "precision": 0.8382352941176471,
            "recall": 0.95
           },
           {
            "f1": 0.9032258064516129,
            "model": "Random Forest",
            "precision": 0.945945945945946,
            "recall": 0.8641975308641975
           },
           {
            "f1": 0.8661417322834646,
            "model": "Random Forest",
            "precision": 0.9016393442622952,
            "recall": 0.8333333333333334
           },
           {
            "f1": 0.8776978417266187,
            "model": "Random Forest",
            "precision": 0.8970588235294118,
            "recall": 0.8591549295774648
           },
           {
            "f1": 0.8807339449541285,
            "model": "Random Forest",
            "precision": 0.9230769230769232,
            "recall": 0.8421052631578947
           },
           {
            "f1": 0.8811188811188809,
            "model": "Random Forest",
            "precision": 0.8873239436619719,
            "recall": 0.875
           },
           {
            "f1": 0.8837209302325579,
            "model": "Random Forest",
            "precision": 0.8769230769230769,
            "recall": 0.890625
           },
           {
            "f1": 0.8652482269503545,
            "model": "Random Forest",
            "precision": 0.9242424242424242,
            "recall": 0.8133333333333334
           },
           {
            "f1": 0.8661417322834646,
            "model": "Random Forest",
            "precision": 0.8870967741935484,
            "recall": 0.8461538461538461
           },
           {
            "f1": 0.9041095890410958,
            "model": "Random Forest",
            "precision": 0.9295774647887324,
            "recall": 0.88
           },
           {
            "f1": 0.8854961832061068,
            "model": "Random Forest",
            "precision": 0.935483870967742,
            "recall": 0.8405797101449275
           },
           {
            "f1": 0.8695652173913043,
            "model": "Random Forest",
            "precision": 0.8695652173913043,
            "recall": 0.8695652173913043
           },
           {
            "f1": 0.8780487804878049,
            "model": "Random Forest",
            "precision": 0.9152542372881356,
            "recall": 0.84375
           },
           {
            "f1": 0.9054054054054054,
            "model": "Random Forest",
            "precision": 0.9305555555555556,
            "recall": 0.8815789473684209
           },
           {
            "f1": 0.9147286821705428,
            "model": "Random Forest",
            "precision": 0.9076923076923076,
            "recall": 0.921875
           },
           {
            "f1": 0.9160305343511452,
            "model": "Random Forest",
            "precision": 0.967741935483871,
            "recall": 0.8695652173913043
           },
           {
            "f1": 0.8142857142857143,
            "model": "Random Forest",
            "precision": 0.8382352941176471,
            "recall": 0.7916666666666666
           },
           {
            "f1": 0.9302325581395348,
            "model": "Random Forest",
            "precision": 0.9090909090909092,
            "recall": 0.9523809523809524
           }
          ]
         },
         "encoding": {
          "color": {
           "field": "model",
           "type": "nominal"
          },
          "x": {
           "field": "recall",
           "type": "quantitative"
          },
          "y": {
           "field": "precision",
           "type": "quantitative"
          }
         },
         "mark": "circle"
        }
       ]
      },
      "image/png": "[encoded data removed]",
      "text/plain": [
       "<VegaLite 2 object>\n",
       "\n",
       "If you see this message, it means the renderer has not been properly enabled\n",
       "for the frontend that you are using. For more information, see\n",
       "https://altair-viz.github.io/user_guide/troubleshooting.html\n"
      ]
     },
     "execution_count": 4,
     "metadata": {},
     "output_type": "execute_result"
    }
   ],
   "source": [
    "base = alt.Chart(scores).mark_circle().encode(\n",
    "    alt.Y('precision:Q'),\n",
    "    alt.Color('model:N')\n",
    ")\n",
    "\n",
    "\n",
    "left = base.encode(alt.X('f1:Q'))\n",
    "right = base.encode(alt.X('recall:Q'))\n",
    "\n",
    "left | right"
   ]
  },
  {
   "cell_type": "code",
   "execution_count": null,
   "metadata": {},
   "outputs": [],
   "source": []
  }
 ],
 "metadata": {
  "kernelspec": {
   "display_name": "venv",
   "language": "python",
   "name": "venv"
  },
  "language_info": {
   "codemirror_mode": {
    "name": "ipython",
    "version": 3
   },
   "file_extension": ".py",
   "mimetype": "text/x-python",
   "name": "python",
   "nbconvert_exporter": "python",
   "pygments_lexer": "ipython3",
   "version": "3.6.4"
  }
 },
 "nbformat": 4,
 "nbformat_minor": 2
}
