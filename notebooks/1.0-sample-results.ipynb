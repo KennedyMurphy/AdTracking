{
 "cells": [
  {
   "cell_type": "markdown",
   "metadata": {},
   "source": [
    "# Overview\n",
    "\n",
    "The file *src/models/compare_methods.py* runs through a number of k-fold cross validations for different classification methods. Below are the f1, precistion, and recall statistics for those model runs. The *train_sample.csv* was used for the k-fold cross validation."
   ]
  },
  {
   "cell_type": "code",
   "execution_count": 1,
   "metadata": {},
   "outputs": [],
   "source": [
    "import pandas as pd\n",
    "import numpy as np\n",
    "import altair as alt"
   ]
  },
  {
   "cell_type": "code",
   "execution_count": 2,
   "metadata": {},
   "outputs": [
    {
     "data": {
      "text/html": [
       "<div>\n",
       "<style scoped>\n",
       "    .dataframe tbody tr th:only-of-type {\n",
       "        vertical-align: middle;\n",
       "    }\n",
       "\n",
       "    .dataframe tbody tr th {\n",
       "        vertical-align: top;\n",
       "    }\n",
       "\n",
       "    .dataframe thead tr th {\n",
       "        text-align: left;\n",
       "    }\n",
       "\n",
       "    .dataframe thead tr:last-of-type th {\n",
       "        text-align: right;\n",
       "    }\n",
       "</style>\n",
       "<table border=\"1\" class=\"dataframe\">\n",
       "  <thead>\n",
       "    <tr>\n",
       "      <th></th>\n",
       "      <th colspan=\"2\" halign=\"left\">precision</th>\n",
       "      <th colspan=\"2\" halign=\"left\">recall</th>\n",
       "      <th colspan=\"2\" halign=\"left\">f1</th>\n",
       "    </tr>\n",
       "    <tr>\n",
       "      <th></th>\n",
       "      <th>mean</th>\n",
       "      <th>std</th>\n",
       "      <th>mean</th>\n",
       "      <th>std</th>\n",
       "      <th>mean</th>\n",
       "      <th>std</th>\n",
       "    </tr>\n",
       "    <tr>\n",
       "      <th>model</th>\n",
       "      <th></th>\n",
       "      <th></th>\n",
       "      <th></th>\n",
       "      <th></th>\n",
       "      <th></th>\n",
       "      <th></th>\n",
       "    </tr>\n",
       "  </thead>\n",
       "  <tbody>\n",
       "    <tr>\n",
       "      <th>Decision Tree</th>\n",
       "      <td>0.361667</td>\n",
       "      <td>0.111363</td>\n",
       "      <td>0.138594</td>\n",
       "      <td>0.060188</td>\n",
       "      <td>0.194207</td>\n",
       "      <td>0.065842</td>\n",
       "    </tr>\n",
       "    <tr>\n",
       "      <th>Logistic Regression</th>\n",
       "      <td>0.000000</td>\n",
       "      <td>0.000000</td>\n",
       "      <td>0.000000</td>\n",
       "      <td>0.000000</td>\n",
       "      <td>0.000000</td>\n",
       "      <td>0.000000</td>\n",
       "    </tr>\n",
       "    <tr>\n",
       "      <th>Random Forest</th>\n",
       "      <td>0.190000</td>\n",
       "      <td>0.389793</td>\n",
       "      <td>0.003577</td>\n",
       "      <td>0.007710</td>\n",
       "      <td>0.007008</td>\n",
       "      <td>0.015069</td>\n",
       "    </tr>\n",
       "  </tbody>\n",
       "</table>\n",
       "</div>"
      ],
      "text/plain": [
       "                    precision              recall                  f1  \\\n",
       "                         mean       std      mean       std      mean   \n",
       "model                                                                   \n",
       "Decision Tree        0.361667  0.111363  0.138594  0.060188  0.194207   \n",
       "Logistic Regression  0.000000  0.000000  0.000000  0.000000  0.000000   \n",
       "Random Forest        0.190000  0.389793  0.003577  0.007710  0.007008   \n",
       "\n",
       "                               \n",
       "                          std  \n",
       "model                          \n",
       "Decision Tree        0.065842  \n",
       "Logistic Regression  0.000000  \n",
       "Random Forest        0.015069  "
      ]
     },
     "execution_count": 2,
     "metadata": {},
     "output_type": "execute_result"
    }
   ],
   "source": [
    "scores = pd.read_csv(\"../models/sample_scores.csv\")\n",
    "scores.groupby(\"model\").agg(['mean', 'std'])"
   ]
  },
  {
   "cell_type": "markdown",
   "metadata": {},
   "source": [
    "The Logistic Regression threw a *UndefinedMetricWarning* at each iteration. This is on my TODO list for digging into. For now, I will drop that classification method and focus on the Decision Tree & Random Forest."
   ]
  },
  {
   "cell_type": "code",
   "execution_count": 3,
   "metadata": {},
   "outputs": [],
   "source": [
    "scores = scores[scores['model'] != 'Logistic Regression'].reset_index(drop=True)"
   ]
  },
  {
   "cell_type": "code",
   "execution_count": 4,
   "metadata": {},
   "outputs": [
    {
     "data": {
      "application/vnd.vegalite.v2+json": {
       "$schema": "https://vega.github.io/schema/vega-lite/v2.4.3.json",
       "config": {
        "view": {
         "height": 300,
         "width": 400
        }
       },
       "hconcat": [
        {
         "data": {
          "values": [
           {
            "f1": 0.22641509433962265,
            "model": "Decision Tree",
            "precision": 0.4615384615384616,
            "recall": 0.15
           },
           {
            "f1": 0.21176470588235294,
            "model": "Decision Tree",
            "precision": 0.45,
            "recall": 0.13846153846153847
           },
           {
            "f1": 0.13861386138613865,
            "model": "Decision Tree",
            "precision": 0.2916666666666667,
            "recall": 0.09090909090909093
           },
           {
            "f1": 0.20618556701030927,
            "model": "Decision Tree",
            "precision": 0.35714285714285715,
            "recall": 0.14492753623188406
           },
           {
            "f1": 0.23423423423423426,
            "model": "Decision Tree",
            "precision": 0.3939393939393939,
            "recall": 0.16666666666666666
           },
           {
            "f1": 0.13333333333333333,
            "model": "Decision Tree",
            "precision": 0.2857142857142857,
            "recall": 0.08695652173913042
           },
           {
            "f1": 0.17821782178217824,
            "model": "Decision Tree",
            "precision": 0.2903225806451613,
            "recall": 0.12857142857142856
           },
           {
            "f1": 0.1686746987951807,
            "model": "Decision Tree",
            "precision": 0.3043478260869565,
            "recall": 0.11666666666666667
           },
           {
            "f1": 0.27956989247311825,
            "model": "Decision Tree",
            "precision": 0.3023255813953488,
            "recall": 0.26
           },
           {
            "f1": 0.10989010989010987,
            "model": "Decision Tree",
            "precision": 0.25,
            "recall": 0.07042253521126761
           },
           {
            "f1": 0.3333333333333333,
            "model": "Decision Tree",
            "precision": 0.375,
            "recall": 0.3
           },
           {
            "f1": 0.2413793103448276,
            "model": "Decision Tree",
            "precision": 0.42424242424242425,
            "recall": 0.1686746987951807
           },
           {
            "f1": 0.2765957446808511,
            "model": "Decision Tree",
            "precision": 0.34210526315789475,
            "recall": 0.23214285714285715
           },
           {
            "f1": 0.2631578947368421,
            "model": "Decision Tree",
            "precision": 0.40540540540540543,
            "recall": 0.1948051948051948
           },
           {
            "f1": 0.12820512820512822,
            "model": "Decision Tree",
            "precision": 0.35714285714285715,
            "recall": 0.078125
           },
           {
            "f1": 0.1818181818181818,
            "model": "Decision Tree",
            "precision": 0.5,
            "recall": 0.1111111111111111
           },
           {
            "f1": 0.15555555555555556,
            "model": "Decision Tree",
            "precision": 0.28,
            "recall": 0.1076923076923077
           },
           {
            "f1": 0.16867469879518074,
            "model": "Decision Tree",
            "precision": 0.7777777777777778,
            "recall": 0.0945945945945946
           },
           {
            "f1": 0.2444444444444445,
            "model": "Decision Tree",
            "precision": 0.3793103448275862,
            "recall": 0.18032786885245905
           },
           {
            "f1": 0.2616822429906542,
            "model": "Decision Tree",
            "precision": 0.3888888888888889,
            "recall": 0.19718309859154928
           },
           {
            "f1": 0.19354838709677424,
            "model": "Decision Tree",
            "precision": 0.32142857142857145,
            "recall": 0.13846153846153847
           },
           {
            "f1": 0.13793103448275862,
            "model": "Decision Tree",
            "precision": 0.375,
            "recall": 0.08450704225352113
           },
           {
            "f1": 0.16216216216216214,
            "model": "Decision Tree",
            "precision": 0.42857142857142855,
            "recall": 0.1
           },
           {
            "f1": 0.2682926829268293,
            "model": "Decision Tree",
            "precision": 0.4583333333333333,
            "recall": 0.1896551724137931
           },
           {
            "f1": 0.3111111111111111,
            "model": "Decision Tree",
            "precision": 0.4117647058823529,
            "recall": 0.25
           },
           {
            "f1": 0.11235955056179774,
            "model": "Decision Tree",
            "precision": 0.29411764705882354,
            "recall": 0.06944444444444445
           },
           {
            "f1": 0.07317073170731707,
            "model": "Decision Tree",
            "precision": 0.1111111111111111,
            "recall": 0.054545454545454536
           },
           {
            "f1": 0.26804123711340205,
            "model": "Decision Tree",
            "precision": 0.4814814814814815,
            "recall": 0.18571428571428567
           },
           {
            "f1": 0.2075471698113208,
            "model": "Decision Tree",
            "precision": 0.3548387096774194,
            "recall": 0.14666666666666667
           },
           {
            "f1": 0.12244897959183673,
            "model": "Decision Tree",
            "precision": 0.16216216216216214,
            "recall": 0.09836065573770493
           },
           {
            "f1": 0.1758241758241758,
            "model": "Decision Tree",
            "precision": 0.3636363636363637,
            "recall": 0.11594202898550725
           },
           {
            "f1": 0.1651376146788991,
            "model": "Decision Tree",
            "precision": 0.3333333333333333,
            "recall": 0.1097560975609756
           },
           {
            "f1": 0.3464566929133859,
            "model": "Decision Tree",
            "precision": 0.4230769230769231,
            "recall": 0.2933333333333333
           },
           {
            "f1": 0.15555555555555556,
            "model": "Decision Tree",
            "precision": 0.2413793103448276,
            "recall": 0.11475409836065575
           },
           {
            "f1": 0.18823529411764708,
            "model": "Decision Tree",
            "precision": 0.4,
            "recall": 0.12307692307692307
           },
           {
            "f1": 0.09876543209876544,
            "model": "Decision Tree",
            "precision": 0.3076923076923077,
            "recall": 0.05882352941176471
           },
           {
            "f1": 0.11494252873563217,
            "model": "Decision Tree",
            "precision": 0.2,
            "recall": 0.08064516129032258
           },
           {
            "f1": 0.1978021978021978,
            "model": "Decision Tree",
            "precision": 0.32142857142857145,
            "recall": 0.14285714285714285
           },
           {
            "f1": 0.1081081081081081,
            "model": "Decision Tree",
            "precision": 0.1935483870967742,
            "recall": 0.075
           },
           {
            "f1": 0.2608695652173913,
            "model": "Decision Tree",
            "precision": 0.5217391304347826,
            "recall": 0.17391304347826084
           },
           {
            "f1": 0.3,
            "model": "Decision Tree",
            "precision": 0.3829787234042553,
            "recall": 0.2465753424657534
           },
           {
            "f1": 0.16666666666666669,
            "model": "Decision Tree",
            "precision": 0.42105263157894735,
            "recall": 0.1038961038961039
           },
           {
            "f1": 0.202020202020202,
            "model": "Decision Tree",
            "precision": 0.4761904761904762,
            "recall": 0.1282051282051282
           },
           {
            "f1": 0.13333333333333333,
            "model": "Decision Tree",
            "precision": 0.21428571428571427,
            "recall": 0.0967741935483871
           },
           {
            "f1": 0.16470588235294115,
            "model": "Decision Tree",
            "precision": 0.3888888888888889,
            "recall": 0.1044776119402985
           },
           {
            "f1": 0.21428571428571425,
            "model": "Decision Tree",
            "precision": 0.375,
            "recall": 0.15
           },
           {
            "f1": 0.26804123711340205,
            "model": "Decision Tree",
            "precision": 0.52,
            "recall": 0.18055555555555555
           },
           {
            "f1": 0.18867924528301885,
            "model": "Decision Tree",
            "precision": 0.4761904761904762,
            "recall": 0.1176470588235294
           },
           {
            "f1": 0.10526315789473684,
            "model": "Decision Tree",
            "precision": 0.2272727272727273,
            "recall": 0.0684931506849315
           },
           {
            "f1": 0.15730337078651685,
            "model": "Decision Tree",
            "precision": 0.28,
            "recall": 0.109375
           },
           {
            "f1": 0,
            "model": "Random Forest",
            "precision": 0,
            "recall": 0
           },
           {
            "f1": 0,
            "model": "Random Forest",
            "precision": 0,
            "recall": 0
           },
           {
            "f1": 0,
            "model": "Random Forest",
            "precision": 0,
            "recall": 0
           },
           {
            "f1": 0,
            "model": "Random Forest",
            "precision": 0,
            "recall": 0
           },
           {
            "f1": 0.02531645569620253,
            "model": "Random Forest",
            "precision": 1,
            "recall": 0.01282051282051282
           },
           {
            "f1": 0,
            "model": "Random Forest",
            "precision": 0,
            "recall": 0
           },
           {
            "f1": 0,
            "model": "Random Forest",
            "precision": 0,
            "recall": 0
           },
           {
            "f1": 0.032786885245901634,
            "model": "Random Forest",
            "precision": 1,
            "recall": 0.016666666666666666
           },
           {
            "f1": 0,
            "model": "Random Forest",
            "precision": 0,
            "recall": 0
           },
           {
            "f1": 0,
            "model": "Random Forest",
            "precision": 0,
            "recall": 0
           },
           {
            "f1": 0,
            "model": "Random Forest",
            "precision": 0,
            "recall": 0
           },
           {
            "f1": 0,
            "model": "Random Forest",
            "precision": 0,
            "recall": 0
           },
           {
            "f1": 0,
            "model": "Random Forest",
            "precision": 0,
            "recall": 0
           },
           {
            "f1": 0,
            "model": "Random Forest",
            "precision": 0,
            "recall": 0
           },
           {
            "f1": 0,
            "model": "Random Forest",
            "precision": 0,
            "recall": 0
           },
           {
            "f1": 0,
            "model": "Random Forest",
            "precision": 0,
            "recall": 0
           },
           {
            "f1": 0,
            "model": "Random Forest",
            "precision": 0,
            "recall": 0
           },
           {
            "f1": 0.052631578947368425,
            "model": "Random Forest",
            "precision": 1,
            "recall": 0.027027027027027032
           },
           {
            "f1": 0,
            "model": "Random Forest",
            "precision": 0,
            "recall": 0
           },
           {
            "f1": 0,
            "model": "Random Forest",
            "precision": 0,
            "recall": 0
           },
           {
            "f1": 0,
            "model": "Random Forest",
            "precision": 0,
            "recall": 0
           },
           {
            "f1": 0,
            "model": "Random Forest",
            "precision": 0,
            "recall": 0
           },
           {
            "f1": 0.032786885245901634,
            "model": "Random Forest",
            "precision": 1,
            "recall": 0.016666666666666666
           },
           {
            "f1": 0,
            "model": "Random Forest",
            "precision": 0,
            "recall": 0
           },
           {
            "f1": 0.03508771929824561,
            "model": "Random Forest",
            "precision": 1,
            "recall": 0.017857142857142856
           },
           {
            "f1": 0,
            "model": "Random Forest",
            "precision": 0,
            "recall": 0
           },
           {
            "f1": 0,
            "model": "Random Forest",
            "precision": 0,
            "recall": 0
           },
           {
            "f1": 0.028169014084507043,
            "model": "Random Forest",
            "precision": 1,
            "recall": 0.014285714285714284
           },
           {
            "f1": 0.025974025974025976,
            "model": "Random Forest",
            "precision": 0.5,
            "recall": 0.013333333333333334
           },
           {
            "f1": 0,
            "model": "Random Forest",
            "precision": 0,
            "recall": 0
           },
           {
            "f1": 0,
            "model": "Random Forest",
            "precision": 0,
            "recall": 0
           },
           {
            "f1": 0,
            "model": "Random Forest",
            "precision": 0,
            "recall": 0
           },
           {
            "f1": 0,
            "model": "Random Forest",
            "precision": 0,
            "recall": 0
           },
           {
            "f1": 0,
            "model": "Random Forest",
            "precision": 0,
            "recall": 0
           },
           {
            "f1": 0,
            "model": "Random Forest",
            "precision": 0,
            "recall": 0
           },
           {
            "f1": 0,
            "model": "Random Forest",
            "precision": 0,
            "recall": 0
           },
           {
            "f1": 0,
            "model": "Random Forest",
            "precision": 0,
            "recall": 0
           },
           {
            "f1": 0,
            "model": "Random Forest",
            "precision": 0,
            "recall": 0
           },
           {
            "f1": 0,
            "model": "Random Forest",
            "precision": 0,
            "recall": 0
           },
           {
            "f1": 0,
            "model": "Random Forest",
            "precision": 0,
            "recall": 0
           },
           {
            "f1": 0,
            "model": "Random Forest",
            "precision": 0,
            "recall": 0
           },
           {
            "f1": 0,
            "model": "Random Forest",
            "precision": 0,
            "recall": 0
           },
           {
            "f1": 0.02531645569620253,
            "model": "Random Forest",
            "precision": 1,
            "recall": 0.01282051282051282
           },
           {
            "f1": 0.031746031746031744,
            "model": "Random Forest",
            "precision": 1,
            "recall": 0.016129032258064516
           },
           {
            "f1": 0,
            "model": "Random Forest",
            "precision": 0,
            "recall": 0
           },
           {
            "f1": 0,
            "model": "Random Forest",
            "precision": 0,
            "recall": 0
           },
           {
            "f1": 0,
            "model": "Random Forest",
            "precision": 0,
            "recall": 0
           },
           {
            "f1": 0,
            "model": "Random Forest",
            "precision": 0,
            "recall": 0
           },
           {
            "f1": 0,
            "model": "Random Forest",
            "precision": 0,
            "recall": 0
           },
           {
            "f1": 0.060606060606060615,
            "model": "Random Forest",
            "precision": 1,
            "recall": 0.03125
           }
          ]
         },
         "encoding": {
          "color": {
           "field": "model",
           "type": "nominal"
          },
          "x": {
           "field": "f1",
           "type": "quantitative"
          },
          "y": {
           "field": "precision",
           "type": "quantitative"
          }
         },
         "mark": "circle"
        },
        {
         "data": {
          "values": [
           {
            "f1": 0.22641509433962265,
            "model": "Decision Tree",
            "precision": 0.4615384615384616,
            "recall": 0.15
           },
           {
            "f1": 0.21176470588235294,
            "model": "Decision Tree",
            "precision": 0.45,
            "recall": 0.13846153846153847
           },
           {
            "f1": 0.13861386138613865,
            "model": "Decision Tree",
            "precision": 0.2916666666666667,
            "recall": 0.09090909090909093
           },
           {
            "f1": 0.20618556701030927,
            "model": "Decision Tree",
            "precision": 0.35714285714285715,
            "recall": 0.14492753623188406
           },
           {
            "f1": 0.23423423423423426,
            "model": "Decision Tree",
            "precision": 0.3939393939393939,
            "recall": 0.16666666666666666
           },
           {
            "f1": 0.13333333333333333,
            "model": "Decision Tree",
            "precision": 0.2857142857142857,
            "recall": 0.08695652173913042
           },
           {
            "f1": 0.17821782178217824,
            "model": "Decision Tree",
            "precision": 0.2903225806451613,
            "recall": 0.12857142857142856
           },
           {
            "f1": 0.1686746987951807,
            "model": "Decision Tree",
            "precision": 0.3043478260869565,
            "recall": 0.11666666666666667
           },
           {
            "f1": 0.27956989247311825,
            "model": "Decision Tree",
            "precision": 0.3023255813953488,
            "recall": 0.26
           },
           {
            "f1": 0.10989010989010987,
            "model": "Decision Tree",
            "precision": 0.25,
            "recall": 0.07042253521126761
           },
           {
            "f1": 0.3333333333333333,
            "model": "Decision Tree",
            "precision": 0.375,
            "recall": 0.3
           },
           {
            "f1": 0.2413793103448276,
            "model": "Decision Tree",
            "precision": 0.42424242424242425,
            "recall": 0.1686746987951807
           },
           {
            "f1": 0.2765957446808511,
            "model": "Decision Tree",
            "precision": 0.34210526315789475,
            "recall": 0.23214285714285715
           },
           {
            "f1": 0.2631578947368421,
            "model": "Decision Tree",
            "precision": 0.40540540540540543,
            "recall": 0.1948051948051948
           },
           {
            "f1": 0.12820512820512822,
            "model": "Decision Tree",
            "precision": 0.35714285714285715,
            "recall": 0.078125
           },
           {
            "f1": 0.1818181818181818,
            "model": "Decision Tree",
            "precision": 0.5,
            "recall": 0.1111111111111111
           },
           {
            "f1": 0.15555555555555556,
            "model": "Decision Tree",
            "precision": 0.28,
            "recall": 0.1076923076923077
           },
           {
            "f1": 0.16867469879518074,
            "model": "Decision Tree",
            "precision": 0.7777777777777778,
            "recall": 0.0945945945945946
           },
           {
            "f1": 0.2444444444444445,
            "model": "Decision Tree",
            "precision": 0.3793103448275862,
            "recall": 0.18032786885245905
           },
           {
            "f1": 0.2616822429906542,
            "model": "Decision Tree",
            "precision": 0.3888888888888889,
            "recall": 0.19718309859154928
           },
           {
            "f1": 0.19354838709677424,
            "model": "Decision Tree",
            "precision": 0.32142857142857145,
            "recall": 0.13846153846153847
           },
           {
            "f1": 0.13793103448275862,
            "model": "Decision Tree",
            "precision": 0.375,
            "recall": 0.08450704225352113
           },
           {
            "f1": 0.16216216216216214,
            "model": "Decision Tree",
            "precision": 0.42857142857142855,
            "recall": 0.1
           },
           {
            "f1": 0.2682926829268293,
            "model": "Decision Tree",
            "precision": 0.4583333333333333,
            "recall": 0.1896551724137931
           },
           {
            "f1": 0.3111111111111111,
            "model": "Decision Tree",
            "precision": 0.4117647058823529,
            "recall": 0.25
           },
           {
            "f1": 0.11235955056179774,
            "model": "Decision Tree",
            "precision": 0.29411764705882354,
            "recall": 0.06944444444444445
           },
           {
            "f1": 0.07317073170731707,
            "model": "Decision Tree",
            "precision": 0.1111111111111111,
            "recall": 0.054545454545454536
           },
           {
            "f1": 0.26804123711340205,
            "model": "Decision Tree",
            "precision": 0.4814814814814815,
            "recall": 0.18571428571428567
           },
           {
            "f1": 0.2075471698113208,
            "model": "Decision Tree",
            "precision": 0.3548387096774194,
            "recall": 0.14666666666666667
           },
           {
            "f1": 0.12244897959183673,
            "model": "Decision Tree",
            "precision": 0.16216216216216214,
            "recall": 0.09836065573770493
           },
           {
            "f1": 0.1758241758241758,
            "model": "Decision Tree",
            "precision": 0.3636363636363637,
            "recall": 0.11594202898550725
           },
           {
            "f1": 0.1651376146788991,
            "model": "Decision Tree",
            "precision": 0.3333333333333333,
            "recall": 0.1097560975609756
           },
           {
            "f1": 0.3464566929133859,
            "model": "Decision Tree",
            "precision": 0.4230769230769231,
            "recall": 0.2933333333333333
           },
           {
            "f1": 0.15555555555555556,
            "model": "Decision Tree",
            "precision": 0.2413793103448276,
            "recall": 0.11475409836065575
           },
           {
            "f1": 0.18823529411764708,
            "model": "Decision Tree",
            "precision": 0.4,
            "recall": 0.12307692307692307
           },
           {
            "f1": 0.09876543209876544,
            "model": "Decision Tree",
            "precision": 0.3076923076923077,
            "recall": 0.05882352941176471
           },
           {
            "f1": 0.11494252873563217,
            "model": "Decision Tree",
            "precision": 0.2,
            "recall": 0.08064516129032258
           },
           {
            "f1": 0.1978021978021978,
            "model": "Decision Tree",
            "precision": 0.32142857142857145,
            "recall": 0.14285714285714285
           },
           {
            "f1": 0.1081081081081081,
            "model": "Decision Tree",
            "precision": 0.1935483870967742,
            "recall": 0.075
           },
           {
            "f1": 0.2608695652173913,
            "model": "Decision Tree",
            "precision": 0.5217391304347826,
            "recall": 0.17391304347826084
           },
           {
            "f1": 0.3,
            "model": "Decision Tree",
            "precision": 0.3829787234042553,
            "recall": 0.2465753424657534
           },
           {
            "f1": 0.16666666666666669,
            "model": "Decision Tree",
            "precision": 0.42105263157894735,
            "recall": 0.1038961038961039
           },
           {
            "f1": 0.202020202020202,
            "model": "Decision Tree",
            "precision": 0.4761904761904762,
            "recall": 0.1282051282051282
           },
           {
            "f1": 0.13333333333333333,
            "model": "Decision Tree",
            "precision": 0.21428571428571427,
            "recall": 0.0967741935483871
           },
           {
            "f1": 0.16470588235294115,
            "model": "Decision Tree",
            "precision": 0.3888888888888889,
            "recall": 0.1044776119402985
           },
           {
            "f1": 0.21428571428571425,
            "model": "Decision Tree",
            "precision": 0.375,
            "recall": 0.15
           },
           {
            "f1": 0.26804123711340205,
            "model": "Decision Tree",
            "precision": 0.52,
            "recall": 0.18055555555555555
           },
           {
            "f1": 0.18867924528301885,
            "model": "Decision Tree",
            "precision": 0.4761904761904762,
            "recall": 0.1176470588235294
           },
           {
            "f1": 0.10526315789473684,
            "model": "Decision Tree",
            "precision": 0.2272727272727273,
            "recall": 0.0684931506849315
           },
           {
            "f1": 0.15730337078651685,
            "model": "Decision Tree",
            "precision": 0.28,
            "recall": 0.109375
           },
           {
            "f1": 0,
            "model": "Random Forest",
            "precision": 0,
            "recall": 0
           },
           {
            "f1": 0,
            "model": "Random Forest",
            "precision": 0,
            "recall": 0
           },
           {
            "f1": 0,
            "model": "Random Forest",
            "precision": 0,
            "recall": 0
           },
           {
            "f1": 0,
            "model": "Random Forest",
            "precision": 0,
            "recall": 0
           },
           {
            "f1": 0.02531645569620253,
            "model": "Random Forest",
            "precision": 1,
            "recall": 0.01282051282051282
           },
           {
            "f1": 0,
            "model": "Random Forest",
            "precision": 0,
            "recall": 0
           },
           {
            "f1": 0,
            "model": "Random Forest",
            "precision": 0,
            "recall": 0
           },
           {
            "f1": 0.032786885245901634,
            "model": "Random Forest",
            "precision": 1,
            "recall": 0.016666666666666666
           },
           {
            "f1": 0,
            "model": "Random Forest",
            "precision": 0,
            "recall": 0
           },
           {
            "f1": 0,
            "model": "Random Forest",
            "precision": 0,
            "recall": 0
           },
           {
            "f1": 0,
            "model": "Random Forest",
            "precision": 0,
            "recall": 0
           },
           {
            "f1": 0,
            "model": "Random Forest",
            "precision": 0,
            "recall": 0
           },
           {
            "f1": 0,
            "model": "Random Forest",
            "precision": 0,
            "recall": 0
           },
           {
            "f1": 0,
            "model": "Random Forest",
            "precision": 0,
            "recall": 0
           },
           {
            "f1": 0,
            "model": "Random Forest",
            "precision": 0,
            "recall": 0
           },
           {
            "f1": 0,
            "model": "Random Forest",
            "precision": 0,
            "recall": 0
           },
           {
            "f1": 0,
            "model": "Random Forest",
            "precision": 0,
            "recall": 0
           },
           {
            "f1": 0.052631578947368425,
            "model": "Random Forest",
            "precision": 1,
            "recall": 0.027027027027027032
           },
           {
            "f1": 0,
            "model": "Random Forest",
            "precision": 0,
            "recall": 0
           },
           {
            "f1": 0,
            "model": "Random Forest",
            "precision": 0,
            "recall": 0
           },
           {
            "f1": 0,
            "model": "Random Forest",
            "precision": 0,
            "recall": 0
           },
           {
            "f1": 0,
            "model": "Random Forest",
            "precision": 0,
            "recall": 0
           },
           {
            "f1": 0.032786885245901634,
            "model": "Random Forest",
            "precision": 1,
            "recall": 0.016666666666666666
           },
           {
            "f1": 0,
            "model": "Random Forest",
            "precision": 0,
            "recall": 0
           },
           {
            "f1": 0.03508771929824561,
            "model": "Random Forest",
            "precision": 1,
            "recall": 0.017857142857142856
           },
           {
            "f1": 0,
            "model": "Random Forest",
            "precision": 0,
            "recall": 0
           },
           {
            "f1": 0,
            "model": "Random Forest",
            "precision": 0,
            "recall": 0
           },
           {
            "f1": 0.028169014084507043,
            "model": "Random Forest",
            "precision": 1,
            "recall": 0.014285714285714284
           },
           {
            "f1": 0.025974025974025976,
            "model": "Random Forest",
            "precision": 0.5,
            "recall": 0.013333333333333334
           },
           {
            "f1": 0,
            "model": "Random Forest",
            "precision": 0,
            "recall": 0
           },
           {
            "f1": 0,
            "model": "Random Forest",
            "precision": 0,
            "recall": 0
           },
           {
            "f1": 0,
            "model": "Random Forest",
            "precision": 0,
            "recall": 0
           },
           {
            "f1": 0,
            "model": "Random Forest",
            "precision": 0,
            "recall": 0
           },
           {
            "f1": 0,
            "model": "Random Forest",
            "precision": 0,
            "recall": 0
           },
           {
            "f1": 0,
            "model": "Random Forest",
            "precision": 0,
            "recall": 0
           },
           {
            "f1": 0,
            "model": "Random Forest",
            "precision": 0,
            "recall": 0
           },
           {
            "f1": 0,
            "model": "Random Forest",
            "precision": 0,
            "recall": 0
           },
           {
            "f1": 0,
            "model": "Random Forest",
            "precision": 0,
            "recall": 0
           },
           {
            "f1": 0,
            "model": "Random Forest",
            "precision": 0,
            "recall": 0
           },
           {
            "f1": 0,
            "model": "Random Forest",
            "precision": 0,
            "recall": 0
           },
           {
            "f1": 0,
            "model": "Random Forest",
            "precision": 0,
            "recall": 0
           },
           {
            "f1": 0,
            "model": "Random Forest",
            "precision": 0,
            "recall": 0
           },
           {
            "f1": 0.02531645569620253,
            "model": "Random Forest",
            "precision": 1,
            "recall": 0.01282051282051282
           },
           {
            "f1": 0.031746031746031744,
            "model": "Random Forest",
            "precision": 1,
            "recall": 0.016129032258064516
           },
           {
            "f1": 0,
            "model": "Random Forest",
            "precision": 0,
            "recall": 0
           },
           {
            "f1": 0,
            "model": "Random Forest",
            "precision": 0,
            "recall": 0
           },
           {
            "f1": 0,
            "model": "Random Forest",
            "precision": 0,
            "recall": 0
           },
           {
            "f1": 0,
            "model": "Random Forest",
            "precision": 0,
            "recall": 0
           },
           {
            "f1": 0,
            "model": "Random Forest",
            "precision": 0,
            "recall": 0
           },
           {
            "f1": 0.060606060606060615,
            "model": "Random Forest",
            "precision": 1,
            "recall": 0.03125
           }
          ]
         },
         "encoding": {
          "color": {
           "field": "model",
           "type": "nominal"
          },
          "x": {
           "field": "recall",
           "type": "quantitative"
          },
          "y": {
           "field": "precision",
           "type": "quantitative"
          }
         },
         "mark": "circle"
        }
       ]
      },
      "image/png": "[encoded data removed]",
      "text/plain": [
       "<VegaLite 2 object>\n",
       "\n",
       "If you see this message, it means the renderer has not been properly enabled\n",
       "for the frontend that you are using. For more information, see\n",
       "https://altair-viz.github.io/user_guide/troubleshooting.html\n"
      ]
     },
     "execution_count": 4,
     "metadata": {},
     "output_type": "execute_result"
    }
   ],
   "source": [
    "base = alt.Chart(scores).mark_circle().encode(\n",
    "    alt.Y('precision:Q'),\n",
    "    alt.Color('model:N')\n",
    ")\n",
    "\n",
    "\n",
    "left = base.encode(alt.X('f1:Q'))\n",
    "right = base.encode(alt.X('recall:Q'))\n",
    "\n",
    "left | right"
   ]
  },
  {
   "cell_type": "markdown",
   "metadata": {},
   "source": [
    "Given the class imbalance between 0 and 1, the above models have a large amount of false negatives. E.g. we are predicting that an observation will not result in a click / download when in reality it does. \n",
    "\n",
    "To deal with the class imbalance, I am going to under-sample observations which belong to class 0."
   ]
  },
  {
   "cell_type": "code",
   "execution_count": null,
   "metadata": {},
   "outputs": [],
   "source": []
  }
 ],
 "metadata": {
  "kernelspec": {
   "display_name": "venv",
   "language": "python",
   "name": "venv"
  },
  "language_info": {
   "codemirror_mode": {
    "name": "ipython",
    "version": 3
   },
   "file_extension": ".py",
   "mimetype": "text/x-python",
   "name": "python",
   "nbconvert_exporter": "python",
   "pygments_lexer": "ipython3",
   "version": "3.6.4"
  }
 },
 "nbformat": 4,
 "nbformat_minor": 2
}
